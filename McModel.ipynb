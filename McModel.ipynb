{
 "cells": [
  {
   "cell_type": "code",
   "execution_count": 3,
   "metadata": {},
   "outputs": [],
   "source": [
    "import torch\n",
    "import torch.nn as nn\n",
    "import torchvision.transforms as transforms\n",
    "from torchvision import models\n",
    "from torch.utils.data import Dataset, DataLoader\n",
    "\n",
    "import csv\n",
    "import matplotlib.pyplot as plt"
   ]
  },
  {
   "cell_type": "code",
   "execution_count": 4,
   "metadata": {},
   "outputs": [],
   "source": [
    "device = \"cuda\" if torch.cuda.is_available() else \"cpu\"\n",
    "\n",
    "grid_size = 11\n",
    "num_classes = 2  # 2 classes just object and not object\n",
    "data_length = 875 # starting at 0\n",
    "train_length = 700\n",
    "\n",
    "epochs = 100\n",
    "batch_size = 32"
   ]
  },
  {
   "cell_type": "markdown",
   "metadata": {},
   "source": [
    "### Model Definition"
   ]
  },
  {
   "cell_type": "code",
   "execution_count": null,
   "metadata": {},
   "outputs": [],
   "source": [
    "class MinecraftFoundationModel(nn.Module):\n",
    "    def __init__(self):\n",
    "        super(MinecraftFoundationModel, self).__init__()\n",
    "        self.backbone = models.resnet50(pretrained=True)\n",
    "        self.backbone = nn.Sequential(*list(self.backbone.children())[:-2])  # Remove the last two layers\n",
    "        \n",
    "        # Object Prediction Head\n",
    "        self.segmentation_head = nn.Sequential(\n",
    "            nn.Conv2d(2048, 256, kernel_size=3, padding=1),\n",
    "            nn.ReLU(inplace=True),\n",
    "            nn.Conv2d(256, num_classes, kernel_size=1),\n",
    "            nn.Upsample(size=(grid_size, grid_size), mode='bilinear', align_corners=True),\n",
    "            nn.Softmax(dim=1)\n",
    "        )\n",
    "        \n",
    "        # Depth Estimation Head\n",
    "        self.depth_estimation_head = nn.Sequential(\n",
    "            nn.Conv2d(2048, 256, kernel_size=3, padding=1),\n",
    "            nn.ReLU(inplace=True),\n",
    "            nn.Conv2d(256, 1, kernel_size=1),\n",
    "            nn.Upsample(size=(grid_size, grid_size), mode='bilinear', align_corners=True),\n",
    "        )\n",
    "    \n",
    "    def forward(self, x):\n",
    "        features = self.backbone(x)\n",
    "        segmentation = self.segmentation_head(features)\n",
    "        depth = self.depth_estimation_head(features)\n",
    "\n",
    "        return depth"
   ]
  },
  {
   "cell_type": "markdown",
   "metadata": {},
   "source": [
    "### Dataset Definition"
   ]
  },
  {
   "cell_type": "code",
   "execution_count": null,
   "metadata": {},
   "outputs": [],
   "source": [
    "class MinecraftDepthDataset(Dataset):\n",
    "    def __init__(self, image_paths, depth_paths, transform=None, train=True):\n",
    "        self.image_paths = image_paths\n",
    "        self.depth_paths = depth_paths\n",
    "        self.transform = transform\n",
    "        self.trainset = train\n",
    "\n",
    "    def __len__(self):\n",
    "        return len(self.image_paths)\n",
    "\n",
    "    def __getitem__(self, idx):\n",
    "        image = Image.open(self.image_paths[idx])\n",
    "        with open(self.depth_paths[idx], mode='r') as file:\n",
    "            csv_reader = csv.reader(file)\n",
    "            header = next(csv_reader)\n",
    "            rows = list(csv_reader)\n",
    "            distances = [row[1] for row in rows]\n",
    "\n",
    "        if self.transform:\n",
    "            image = self.transform(image)\n",
    "        \n",
    "        depth = torch.tensor(distances, dtype=torch.float32)\n",
    "\n",
    "        return image, depth\n",
    "\n",
    "weights = models.ResNet50_Weights.DEFAULT\n",
    "transform = weights.transforms()\n",
    "\n",
    "image_paths = ['data/Unannotated/{}.png'.format(str(i).zfill(5)) for i in range(data_length)]\n",
    "depth_paths = ['data/Annotations/{}.csv'.format(str(i).zfill(5)) for i in range(data_length)]\n",
    "\n",
    "# Example paths, replace with your actual paths\n",
    "train_dataset = MinecraftDepthDataset(image_paths[:train_length], depth_paths[:train_length], transform=transform)\n",
    "train_loader = DataLoader(train_dataset, batch_size=batch_size, shuffle=True, num_workers=4, pin_memory=True)\n",
    "\n",
    "val_dataset = MinecraftDepthDataset(image_paths[train_length:], depth_paths[train_length:], transform=transform)\n",
    "val_loader = DataLoader(val_dataset, batch_size=batch_size, shuffle=False, num_workers=4, pin_memory=True)"
   ]
  },
  {
   "cell_type": "markdown",
   "metadata": {},
   "source": [
    "### Training"
   ]
  },
  {
   "cell_type": "code",
   "execution_count": null,
   "metadata": {},
   "outputs": [],
   "source": [
    "model = MinecraftFoundationModel().to(device)\n",
    "\n",
    "depth_loss_fn = nn.MSELoss()\n",
    "optimizer_backbone = torch.optim.Adam(model.backbone.parameters(), lr=1e-4)\n",
    "optimizer_depth = torch.optim.Adam(model.depth_estimation_head.parameters(), lr=1e-3)\n",
    "\n",
    "train_losses = []\n",
    "val_losses = []\n",
    "\n",
    "for epoch in range(epochs):\n",
    "    model.train()\n",
    "    train_loss = 0.0\n",
    "    \n",
    "    # Training step\n",
    "    for images, depth_targets in train_loader:\n",
    "        images = images.to(device)\n",
    "        depth_targets = depth_targets.to(device)\n",
    "\n",
    "        optimizer_backbone.zero_grad()\n",
    "        optimizer_depth.zero_grad()\n",
    "\n",
    "        depth_pred = model(images)\n",
    "\n",
    "        loss = depth_loss_fn(depth_pred, depth_targets)\n",
    "        loss.backward()\n",
    "        optimizer_depth.step()\n",
    "        optimizer_backbone.step()\n",
    "\n",
    "        train_loss += loss.item() * images.size(0)\n",
    "    \n",
    "    train_loss /= len(train_loader.dataset)\n",
    "    train_losses.append(train_loss)\n",
    "\n",
    "    # Validation step\n",
    "    model.eval()\n",
    "    val_loss = 0.0\n",
    "    \n",
    "    with torch.no_grad():\n",
    "        for images, depth_targets in val_loader:\n",
    "            images = images.to(device)\n",
    "            depth_targets = depth_targets.to(device)\n",
    "\n",
    "            depth_pred = model(images)\n",
    "            loss = depth_loss_fn(depth_pred, depth_targets)\n",
    "            val_loss += loss.item() * images.size(0)\n",
    "\n",
    "    val_loss /= len(val_loader.dataset)\n",
    "    val_losses.append(val_loss)\n",
    "\n",
    "    print(f'Epoch {epoch+1}/{epochs}, Train Loss: {train_loss:.4f}, Val Loss: {val_loss:.4f}')"
   ]
  },
  {
   "cell_type": "code",
   "execution_count": null,
   "metadata": {},
   "outputs": [],
   "source": [
    "plt.figure(figsize=(10, 5))\n",
    "plt.plot(train_losses, label='Training Loss')\n",
    "plt.plot(val_losses, label='Validation Loss')\n",
    "plt.xlabel('Epochs')\n",
    "plt.ylabel('Loss')\n",
    "plt.title('Training and Validation Loss')\n",
    "plt.legend()\n",
    "plt.show()"
   ]
  }
 ],
 "metadata": {
  "kernelspec": {
   "display_name": "Python 3",
   "language": "python",
   "name": "python3"
  },
  "language_info": {
   "codemirror_mode": {
    "name": "ipython",
    "version": 3
   },
   "file_extension": ".py",
   "mimetype": "text/x-python",
   "name": "python",
   "nbconvert_exporter": "python",
   "pygments_lexer": "ipython3",
   "version": "3.12.5"
  }
 },
 "nbformat": 4,
 "nbformat_minor": 2
}
